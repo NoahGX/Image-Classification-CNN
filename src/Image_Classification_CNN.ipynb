{
 "cells": [
  {
   "cell_type": "markdown",
   "metadata": {},
   "source": [
    "# **Image Classification: Convolutional Neural Networks**\n",
    "\n",
    "In this Jupyter notebook, we will implement a fully functioning ConvNet model using PyTorch. We will use the model to conduct image classification on the FashionMNST dataset."
   ]
  },
  {
   "cell_type": "code",
   "execution_count": 1,
   "metadata": {},
   "outputs": [],
   "source": [
    "import numpy as np\n",
    "import matplotlib.pyplot as plt\n",
    "from tqdm import tqdm\n",
    "\n",
    "import torch\n",
    "import torch.nn as nn\n",
    "import torch.nn.functional as F\n",
    "torch.manual_seed(0)\n",
    "torch.use_deterministic_algorithms(True)\n",
    "\n",
    "from torch.utils.data import DataLoader\n",
    "from torchvision import datasets\n",
    "from torchvision.transforms import ToTensor\n",
    "\n",
    "%matplotlib inline\n",
    "np.random.seed(1)"
   ]
  },
  {
   "cell_type": "markdown",
   "metadata": {},
   "source": [
    "***\n",
    "\n",
    "## **1. Load Data**\n",
    "\n",
    "We load the FashionMNIST dataset provided by PyTorch. We can also change the `download` param to `False`, and copy the `data` folder to the current folder.\n",
    "\n",
    "See <https://pytorch.org/docs/stable/data.html#torch.utils.data.DataLoader> for more information."
   ]
  },
  {
   "cell_type": "code",
   "execution_count": 2,
   "metadata": {
    "collapsed": false,
    "pycharm": {
     "name": "#%%\n"
    }
   },
   "outputs": [],
   "source": [
    "training_data = datasets.FashionMNIST(\n",
    "    root=\"../data\",\n",
    "    train=True,\n",
    "    download=True,\n",
    "    transform=ToTensor()\n",
    ")\n",
    "\n",
    "test_data = datasets.FashionMNIST(\n",
    "    root=\"../data\",\n",
    "    train=False,\n",
    "    download=True,\n",
    "    transform=ToTensor()\n",
    ")\n",
    "\n",
    "batch_size = 64\n",
    "\n",
    "train_loader = DataLoader(training_data, batch_size=batch_size)\n",
    "test_loader = DataLoader(test_data, batch_size=batch_size)"
   ]
  },
  {
   "cell_type": "markdown",
   "metadata": {
    "collapsed": false
   },
   "source": [
    "***\n",
    "\n",
    "## **2. Examine Data Size**\n",
    "\n",
    "Now, we can examine the size of the training/test data, which is important for determining some of the parameters of our model"
   ]
  },
  {
   "cell_type": "code",
   "execution_count": 3,
   "metadata": {
    "collapsed": false,
    "pycharm": {
     "name": "#%%\n"
    }
   },
   "outputs": [
    {
     "name": "stdout",
     "output_type": "stream",
     "text": [
      "X.shape:  torch.Size([64, 1, 28, 28])\n",
      "Y.shape:  torch.Size([64])\n"
     ]
    }
   ],
   "source": [
    "for i, (X, y) in enumerate(train_loader):\n",
    "    if i > 0:\n",
    "        break\n",
    "\n",
    "print('X.shape: ', X.shape)\n",
    "print('Y.shape: ', y.shape)"
   ]
  },
  {
   "cell_type": "markdown",
   "metadata": {},
   "source": [
    "***\n",
    "\n",
    "## **3. Build the Model**\n",
    "\n",
    "We will need to define our ConvNet model as a subclass of `torch.nn.Module`. Because we have already imported `torch.nn` as `nn`, we can specify the baseclass simply as `nn.Module`.\n",
    "\n",
    "We need to override two functions in defining the class, `__init__()` and `forward()`.\n",
    "- All the parameters, including the convolutional, pooling, and fully-connected layers are defined in `__init__()`. They are declared and initialized as members of the class, using the `self.` notation in Python. \n",
    "- The forward pass of the computational graph is defined in `forward()`. This function takes as input the training data, and call all operations (conv, pool, etc.) sequentially on the data. The output of a preceding operation is used as the input for the following operation. \n",
    "\n",
    "- We define the model so that the architecture is as follows: <br>\n",
    "    Conv1 -> ReLU -> BatchNorm-> MaxPool1 -> \\\n",
    "    Conv2 -> ReLU -> BatchNorm-> MaxPool2 -> \\\n",
    "    FullyConnected -> Softmax.\n",
    "  <br> In which,\n",
    "    - `conv1` has filter size $f=3$, stride $s=1$, padding $p=0$, the number of filters $n_f=6$\n",
    "    - `conv2` has filter  $f=3$, stride $s=2$, padding $p=0$, the number of filters $n_f=12$;\n",
    "    - all max-pool layers use filter  $f=2$ (stride $s=2$ by default).\n",
    "  <br>\n",
    "- *Note* that the *RELU* activation function is implemented in `forward()` rather than `__init__()`, using `F.relu()`, in which `F` is short for `torch.nn.functional` (imported at the beginning).\n",
    "\n",
    "- The `in_features` of `self.fc` is the total number of output units after the `self.pool2` layer.\n",
    "- The `out_features` of `self.fc` should match the number of classes in FashionMNIST dataset, which is 10.\n",
    "- We use the following formula to compute the height and width of ouputs from conv layers.\n",
    "\\begin{equation}\\text{Output} = (\\lfloor\\frac{n+2p-f}{s}\\rfloor + 1)\\times(\\lfloor\\frac{n+2p-f}{s}\\rfloor + 1)\\end{equation}\n",
    "- For the output of model, we need to use `nn.logSoftmax()`."
   ]
  },
  {
   "cell_type": "code",
   "execution_count": 4,
   "metadata": {},
   "outputs": [],
   "source": [
    "class ConvNetModel(nn.Module):\n",
    "    def __init__(self, debug=False):\n",
    "        super(ConvNetModel, self).__init__()\n",
    "        self.debug = debug\n",
    "\n",
    "        # The first convolutional layer has in_channels=1, out_channels=6, kernel_size=3, with default stride=1 and padding=0\n",
    "        self.conv1 = nn.Conv2d(in_channels=1, out_channels=6, kernel_size=3, stride=1, padding=0)\n",
    "        self.bn1 = nn.BatchNorm2d(num_features=6)\n",
    "        # The first pooling layer is a maxpool with a square window of kernel_size=2 (default stride is same as kernel_size)\n",
    "        self.pool1 = nn.MaxPool2d(kernel_size=2)\n",
    "\n",
    "        # The second convolutional layer\n",
    "        # NOTE: Its in_channels should match the out_channels of conv1\n",
    "        self.conv2 = nn.Conv2d(in_channels=6, out_channels=12, kernel_size=3, stride=2, padding=0)\n",
    "        self.bn2 = nn.BatchNorm2d(num_features=12)\n",
    "        # The second pooling layer is maxpool with a square window of kernel_size=2\n",
    "        self.pool2 = nn.MaxPool2d(kernel_size=2)\n",
    "        \n",
    "        # The fully-connected layer\n",
    "        self.flatten = nn.Flatten()\n",
    "        self.fc = nn.Linear(12*3*3, 10) # Use nn.Linear, and you need to specify the correct in_features and out_features\n",
    "        \n",
    "        # Softmax layer\n",
    "        self.output = nn.LogSoftmax(dim=1) # Use nn.LogSoftmax(), specify the dim correctly        \n",
    "    \n",
    "    def forward(self, x):\n",
    "        # Conv1 -> ReLU -> Batchnorm1-> Pool1\n",
    "        x = self.pool1(F.relu(self.bn1(self.conv1(x))))\n",
    "        if self.debug:\n",
    "            print('output shape of pool1:', x.shape)\n",
    "        \n",
    "        # Conv2 -> ReLU -> Batchnorm2 -> Pool2\n",
    "        x = self.pool2(F.relu(self.bn2(self.conv2(x))))\n",
    "        if self.debug:\n",
    "            print('output shape of pool2:', x.shape)\n",
    "        \n",
    "        # Flatten the output from the last pooling layer\n",
    "        x = self.flatten(x)\n",
    "        \n",
    "        # Call the fully-connected layer, followed by a F.relu()\n",
    "        x = F.relu(self.fc(x))\n",
    "        \n",
    "        # Call softmax layer\n",
    "        x = self.output(x)        \n",
    "        return x"
   ]
  },
  {
   "cell_type": "code",
   "execution_count": 5,
   "metadata": {},
   "outputs": [
    {
     "name": "stdout",
     "output_type": "stream",
     "text": [
      "output.size(): torch.Size([64, 10])\n"
     ]
    }
   ],
   "source": [
    "model = ConvNetModel(debug=False)\n",
    "\n",
    "# Test code\n",
    "torch.manual_seed(0)\n",
    "input_data = torch.randn(64, 1, 28, 28)\n",
    "output = model(input_data)\n",
    "print('output.size():', output.size())"
   ]
  },
  {
   "cell_type": "markdown",
   "metadata": {},
   "source": [
    "***\n",
    "\n",
    "## **4. Train and Evaluate**\n",
    "\n",
    "Now we will use the functions we have implemented above to build a full model. Then we train the model on the sign language dataset.\n",
    "\n",
    "We can refer to the official documents: See <https://pytorch.org/docs/stable/generated/torch.nn.CrossEntropyLoss.html> and <https://pytorch.org/docs/stable/optim.html> for more information."
   ]
  },
  {
   "cell_type": "code",
   "execution_count": 6,
   "metadata": {
    "collapsed": false,
    "pycharm": {
     "name": "#%%\n"
    }
   },
   "outputs": [],
   "source": [
    "def train_loop(dataloader, model, loss_fn, optimizer, verbose=True):\n",
    "    for i, (X, y) in enumerate(dataloader):\n",
    "        # Compute prediction and loss\n",
    "        pred = model(X)\n",
    "        loss = loss_fn(pred, y)\n",
    "\n",
    "        # Backpropagation\n",
    "        optimizer.zero_grad()\n",
    "        loss.backward()\n",
    "        optimizer.step()\n",
    "\n",
    "        if verbose and i % 100 == 0:\n",
    "            loss = loss.item()\n",
    "            current_step = i * len(X)\n",
    "            print(f\"loss: {loss:>7f}  [{current_step:>5d}/{len(dataloader.dataset):>5d}]\")"
   ]
  },
  {
   "cell_type": "code",
   "execution_count": 7,
   "metadata": {
    "collapsed": false,
    "pycharm": {
     "name": "#%%\n"
    }
   },
   "outputs": [],
   "source": [
    "@torch.no_grad()\n",
    "def test_loop(dataloader, model, loss_fn):\n",
    "    test_loss, correct = 0, 0\n",
    "\n",
    "    for X, y in dataloader:\n",
    "        pred = model(X)\n",
    "        loss = loss_fn(pred, y)\n",
    "        test_loss += loss.item()\n",
    "        # Add the number of correct prediction in the current batch to `correct`\n",
    "        correct += (pred.argmax(1) == y).type(torch.float).sum().item()\n",
    "\n",
    "    test_loss /= len(dataloader)\n",
    "    test_acc = correct / len(dataloader.dataset)\n",
    "    print(f\"Test Error: \\n Accuracy: {(100*test_acc):>0.1f}%, Avg loss: {test_loss:>8f} \\n\")"
   ]
  },
  {
   "cell_type": "markdown",
   "metadata": {
    "collapsed": false
   },
   "source": [
    "Next, we execute the following cell to start the training and testing loop.\n",
    "\n",
    "**Note** that a different loss function, `nn.NLLLoss()` should be used, instead of `nn.CrossEntropyLoss()`, because we already used softmax as the output layer in the model."
   ]
  },
  {
   "cell_type": "code",
   "execution_count": 8,
   "metadata": {
    "collapsed": false,
    "pycharm": {
     "name": "#%%\n"
    }
   },
   "outputs": [
    {
     "name": "stdout",
     "output_type": "stream",
     "text": [
      "Epoch 1\n",
      "-------------------------------\n",
      "Test Error: \n",
      " Accuracy: 77.5%, Avg loss: 0.696391 \n",
      "\n",
      "Epoch 2\n",
      "-------------------------------\n",
      "Test Error: \n",
      " Accuracy: 78.6%, Avg loss: 0.645757 \n",
      "\n",
      "Epoch 3\n",
      "-------------------------------\n",
      "Test Error: \n",
      " Accuracy: 79.5%, Avg loss: 0.619855 \n",
      "\n",
      "Epoch 4\n",
      "-------------------------------\n",
      "Test Error: \n",
      " Accuracy: 79.7%, Avg loss: 0.606201 \n",
      "\n",
      "Epoch 5\n",
      "-------------------------------\n",
      "Test Error: \n",
      " Accuracy: 79.6%, Avg loss: 0.598903 \n",
      "\n",
      "Epoch 6\n",
      "-------------------------------\n",
      "Test Error: \n",
      " Accuracy: 79.8%, Avg loss: 0.591905 \n",
      "\n",
      "Epoch 7\n",
      "-------------------------------\n",
      "Test Error: \n",
      " Accuracy: 80.0%, Avg loss: 0.586152 \n",
      "\n",
      "Epoch 8\n",
      "-------------------------------\n",
      "Test Error: \n",
      " Accuracy: 80.1%, Avg loss: 0.582046 \n",
      "\n",
      "Epoch 9\n",
      "-------------------------------\n",
      "Test Error: \n",
      " Accuracy: 80.1%, Avg loss: 0.579308 \n",
      "\n",
      "Epoch 10\n",
      "-------------------------------\n",
      "Test Error: \n",
      " Accuracy: 80.2%, Avg loss: 0.577434 \n",
      "\n",
      "Done!\n"
     ]
    }
   ],
   "source": [
    "# Reset the model\n",
    "model = ConvNetModel()\n",
    "learning_rate = 1e-3\n",
    "\n",
    "# Use the correct loss function\n",
    "loss_fn = nn.NLLLoss()\n",
    "optimizer = torch.optim.Adam(model.parameters(), lr=learning_rate)\n",
    "\n",
    "epochs = 10\n",
    "for t in range(epochs):\n",
    "    print(f\"Epoch {t+1}\\n-------------------------------\")\n",
    "    # Call train_loop(); use verbose=False to see less information\n",
    "    train_loop(train_loader, model, loss_fn, optimizer, verbose=False)\n",
    "    # Call test_loop()\n",
    "    test_loop(test_loader, model, loss_fn)\n",
    "print(\"Done!\")"
   ]
  },
  {
   "cell_type": "markdown",
   "metadata": {
    "pycharm": {
     "name": "#%% md\n"
    }
   },
   "source": [
    "We were able to reach above 80% test accuracy.\n",
    "\n",
    "We have successfully built a convolutional neural network model for image classification."
   ]
  }
 ],
 "metadata": {
  "interpreter": {
   "hash": "25f78cd986e649f5a1fa57f7be9a497a8fd91952316ec3e436af56ac9acfc630"
  },
  "kernelspec": {
   "display_name": "Python 3.9.6 64-bit ('3.9.6': pyenv)",
   "name": "python3"
  },
  "language_info": {
   "codemirror_mode": {
    "name": "ipython",
    "version": 3
   },
   "file_extension": ".py",
   "mimetype": "text/x-python",
   "name": "python",
   "nbconvert_exporter": "python",
   "pygments_lexer": "ipython3",
   "version": "3.12.4"
  }
 },
 "nbformat": 4,
 "nbformat_minor": 4
}
